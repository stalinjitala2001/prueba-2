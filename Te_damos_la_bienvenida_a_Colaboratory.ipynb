{
  "cells": [
    {
      "cell_type": "markdown",
      "metadata": {
        "id": "view-in-github",
        "colab_type": "text"
      },
      "source": [
        "<a href=\"https://colab.research.google.com/github/stalinjitala2001/prueba-2/blob/main/Te_damos_la_bienvenida_a_Colaboratory.ipynb\" target=\"_parent\"><img src=\"https://colab.research.google.com/assets/colab-badge.svg\" alt=\"Open In Colab\"/></a>"
      ]
    },
    {
      "cell_type": "code",
      "execution_count": null,
      "metadata": {
        "id": "zwFnJsE6vjf8"
      },
      "outputs": [],
      "source": []
    },
    {
      "cell_type": "code",
      "execution_count": null,
      "metadata": {
        "colab": {
          "base_uri": "https://localhost:8080/",
          "height": 34
        },
        "id": "-gE-Ez1qtyIA",
        "outputId": "94cb2224-0edf-457b-90b5-0ac3488d8a97"
      },
      "outputs": [
        {
          "data": {
            "text/plain": [
              "604800"
            ]
          },
          "execution_count": 0,
          "metadata": {
            "tags": []
          },
          "output_type": "execute_result"
        }
      ],
      "source": [
        "seconds_in_a_week = 7 * seconds_in_a_day\n",
        "seconds_in_a_week"
      ]
    },
    {
      "cell_type": "code",
      "source": [
        "def der_parcial_1(xs: list, ys: list) -> tuple[float, float, float]:\n",
        "    \"\"\"Retorna los coeficientes de la ecuación de la derivada parcial con respecto al parámetro 1 al reemplazar los valores ``xs`` y ``ys``. La ecuación es de la forma:\n",
        "    c_1 * a_1 + c_0 * a_0 = c_ind\n",
        "\n",
        "    ## Parameters\n",
        "\n",
        "    ``xs``: lista de valores de x.\n",
        "\n",
        "    ``ys``: lista de valores de y.\n",
        "\n",
        "    ## Return\n",
        "\n",
        "    ``c_1``: coeficiente del parámetro 1.\n",
        "\n",
        "    ``c_0``: coeficiente del parámetro 0.\n",
        "\n",
        "    ``c_ind``: coeficiente del término independiente.\n",
        "    \"\"\"\n",
        "    sum_xi = sum(xs)\n",
        "    sum_xi_squared = sum(x**2 for x in xs)\n",
        "    sum_xi_yi = sum(x * y for x, y in zip(xs, ys))\n",
        "\n",
        "    c_1 = -sum_xi_squared\n",
        "    c_0 = -sum_xi\n",
        "    c_ind = sum_xi_yi\n",
        "\n",
        "    return (c_1, c_0, c_ind)\n",
        "\n",
        "\n",
        "\n"
      ],
      "metadata": {
        "id": "QreLt5Mo5Xkh"
      },
      "execution_count": 3,
      "outputs": []
    },
    {
      "cell_type": "code",
      "source": [
        "def der_parcial_0_parabol(xs: list, ys: list) -> tuple[float, float, float, float]:\n",
        "    \"\"\"Retorna los coeficientes de la ecuación de la derivada parcial con respecto al parámetro 0 al reemplazar los valores ``xs`` y ``ys``. La ecuación es de la forma:\n",
        "    c_2 * a_2 + c_1 * a_1 + c_0 * a_0 = c_ind\n",
        "\n",
        "    ## Parameters\n",
        "\n",
        "    ``xs``: lista de valores de x.\n",
        "\n",
        "    ``ys``: lista de valores de y.\n",
        "\n",
        "    ## Return\n",
        "\n",
        "    ``c_2``: coeficiente del parámetro 2.\n",
        "\n",
        "    ``c_1``: coeficiente del parámetro 1.\n",
        "\n",
        "    ``c_0``: coeficiente del parámetro 0.\n",
        "\n",
        "    ``c_ind``: coeficiente del término independiente.\n",
        "    \"\"\"\n",
        "    sum_xi = sum(xs)\n",
        "    sum_yi = sum(ys)\n",
        "    n = len(xs)\n",
        "\n",
        "    c_2 = sum(1 for _ in xs)\n",
        "    c_1 = sum_xi\n",
        "    c_0 = n\n",
        "    c_ind = sum_yi\n",
        "\n",
        "    return (c_2, c_1, c_0, c_ind)\n",
        "\n",
        "\n",
        "\n",
        "\n",
        "\n"
      ],
      "metadata": {
        "id": "Pppm9OHI8sr8"
      },
      "execution_count": 4,
      "outputs": []
    },
    {
      "cell_type": "code",
      "source": [
        "def der_parcial_1_parabol(xs: list, ys: list) -> tuple[float, float, float, float]:\n",
        "    \"\"\"Retorna los coeficientes de la ecuación de la derivada parcial con respecto al parámetro 1 al reemplazar los valores ``xs`` y ``ys``. La ecuación es de la forma:\n",
        "    c_2 * a_2 + c_1 * a_1 + c_0 * a_0 = c_ind\n",
        "\n",
        "    ## Parameters\n",
        "\n",
        "    ``xs``: lista de valores de x.\n",
        "\n",
        "    ``ys``: lista de valores de y.\n",
        "\n",
        "    ## Return\n",
        "\n",
        "    ``c_2``: coeficiente del parámetro 2.\n",
        "\n",
        "    ``c_1``: coeficiente del parámetro 1.\n",
        "\n",
        "    ``c_0``: coeficiente del parámetro 0.\n",
        "\n",
        "    ``c_ind``: coeficiente del término independiente.\n",
        "    \"\"\"\n",
        "    sum_xi = sum(xs)\n",
        "    sum_xi_squared = sum(x**2 for x in xs)\n",
        "    sum_xi_yi = sum(x * y for x, y in zip(xs, ys))\n",
        "\n",
        "    c_2 = sum_xi_squared\n",
        "    c_1 = sum_xi\n",
        "    c_0 = len(xs)\n",
        "    c_ind = sum_xi_yi\n",
        "\n",
        "    return (c_2, c_1, c_0, c_ind)"
      ],
      "metadata": {
        "id": "tIIt6xM784zd"
      },
      "execution_count": null,
      "outputs": []
    },
    {
      "cell_type": "code",
      "source": [
        "def der_parcial_2_parabol(xs: list, ys: list) -> tuple[float, float, float, float]:\n",
        "    \"\"\"Retorna los coeficientes de la ecuación de la derivada parcial con respecto al parámetro 2 al reemplazar los valores ``xs`` y ``ys``. La ecuación es de la forma:\n",
        "    c_2 * a_2 + c_1 * a_1 + c_0 * a_0 = c_ind\n",
        "\n",
        "    ## Parameters\n",
        "\n",
        "    ``xs``: lista de valores de x.\n",
        "\n",
        "    ``ys``: lista de valores de y.\n",
        "\n",
        "    ## Return\n",
        "\n",
        "    ``c_2``: coeficiente del parámetro 2.\n",
        "\n",
        "    ``c_1``: coeficiente del parámetro 1.\n",
        "\n",
        "    ``c_0``: coeficiente del parámetro 0.\n",
        "\n",
        "    ``c_ind``: coeficiente del término independiente.\n",
        "    \"\"\"\n",
        "    sum_xi_squared = sum(x**2 for x in xs)\n",
        "    sum_xi_cubed = sum(x**3 for x in xs)\n",
        "    sum_xi_quadratic = sum(x**4 for x in xs)\n",
        "    sum_xi_yi = sum(x * y for x, y in zip(xs, ys))\n",
        "\n",
        "    c_2 = sum_xi_quadratic\n",
        "    c_1 = sum_xi_cubed\n",
        "    c_0 = sum_xi_squared\n",
        "    c_ind = sum_xi_yi\n",
        "\n",
        "    return (c_2, c_1, c_0, c_ind)\n"
      ],
      "metadata": {
        "id": "sEff5Fhf8741"
      },
      "execution_count": null,
      "outputs": []
    },
    {
      "cell_type": "code",
      "source": [],
      "metadata": {
        "id": "PlFkDQ8G-EbM"
      },
      "execution_count": null,
      "outputs": []
    },
    {
      "cell_type": "markdown",
      "source": [
        "matrices"
      ],
      "metadata": {
        "id": "kLk45-rL-FF1"
      }
    },
    {
      "cell_type": "code",
      "source": [
        "import numpy as np\n",
        "import logging\n",
        "\n",
        "# Configurar logging\n",
        "logging.basicConfig(level=logging.DEBUG, format='%(levelname)s: %(message)s')\n",
        "\n",
        "def gauss_jordan_inversa(A: np.ndarray) -> np.ndarray:\n",
        "    \"\"\"Encuentra la inversa de una matriz cuadrada usando el método de Gauss-Jordan.\n",
        "\n",
        "    ## Parameters\n",
        "\n",
        "    ``A``: matriz cuadrada de tamaño n-by-n que se desea invertir.\n",
        "\n",
        "    ## Return\n",
        "\n",
        "    ``inversa``: matriz inversa de A.\n",
        "\n",
        "    \"\"\"\n",
        "    if not isinstance(A, np.ndarray):\n",
        "        logging.debug(\"Convirtiendo A a numpy array.\")\n",
        "        A = np.array(A)\n",
        "\n",
        "    n = A.shape[0]\n",
        "    if A.shape[0] != A.shape[1]:\n",
        "        raise ValueError(\"La matriz debe ser cuadrada.\")\n",
        "\n",
        "    # Crear matriz aumentada [A | I]\n",
        "    Ab = np.hstack((A, np.eye(n)))\n",
        "    logging.debug(f\"Matriz aumentada inicial:\\n{Ab}\")\n",
        "\n",
        "    for i in range(n):  # loop por columna\n",
        "\n",
        "        # --- encontrar pivote\n",
        "        p = np.argmax(np.abs(Ab[i:n, i])) + i\n",
        "        if Ab[p, i] == 0:\n",
        "            raise ValueError(\"La matriz no es invertible.\")\n",
        "\n",
        "        if p != i:\n",
        "            # intercambiar filas\n",
        "            logging.debug(f\"Intercambiando filas {i} y {p}\")\n",
        "            Ab[[i, p], :] = Ab[[p, i], :]\n",
        "\n",
        "        # --- Normalización\n",
        "        Ab[i, :] = Ab[i, :] / Ab[i, i]\n",
        "        logging.debug(f\"Después de normalizar la fila {i}:\\n{Ab}\")\n",
        "\n",
        "        # --- Eliminación: loop por fila\n",
        "        for j in range(n):\n",
        "            if i != j:\n",
        "                m = Ab[j, i]\n",
        "                Ab[j, :] = Ab[j, :] - m * Ab[i, :]\n",
        "                logging.debug(f\"Eliminando fila {j} usando la fila {i}:\\n{Ab}\")\n",
        "\n",
        "    # Comprobar si la matriz es invertible\n",
        "    if np.any(np.isnan(Ab[:, -n:])) or np.all(Ab[:, :-n] == 0):\n",
        "        raise ValueError(\"La matriz no es invertible.\")\n",
        "\n",
        "    logging.debug(f\"Matriz final aumentada:\\n{Ab}\")\n",
        "\n",
        "    # --- Extracción de la inversa\n",
        "    inversa = Ab[:, -n:]\n",
        "    return inversa\n",
        "\n"
      ],
      "metadata": {
        "id": "VtYUlm1e-GL9"
      },
      "execution_count": 9,
      "outputs": []
    },
    {
      "cell_type": "code",
      "source": [
        "\n",
        "\n",
        "# Ejercicio 3\n",
        "A3 = np.array([\n",
        "     [1, 2, 3, 4],\n",
        "    [2, 5, 6, 7],\n",
        "    [3, 6, 8, 9],\n",
        "    [4, 7, 9, 10]\n",
        "])\n",
        "\n",
        "\n",
        "print(\"\\nInversa de la matriz A3:\")\n",
        "print(gauss_jordan_inversa(A3))"
      ],
      "metadata": {
        "colab": {
          "base_uri": "https://localhost:8080/"
        },
        "id": "H6RuY0rk-LDU",
        "outputId": "26012dac-ab39-4c44-8d18-237b16fbbfe2"
      },
      "execution_count": 13,
      "outputs": [
        {
          "output_type": "stream",
          "name": "stdout",
          "text": [
            "\n",
            "Inversa de la matriz A3:\n",
            "[[ 0.5 -0.5 -1.5  1.5]\n",
            " [-0.5  1.5 -1.5  0.5]\n",
            " [-1.5 -1.5  3.5 -1.5]\n",
            " [ 1.5  0.5 -1.5  0.5]]\n"
          ]
        }
      ]
    }
  ],
  "metadata": {
    "colab": {
      "name": "Te damos la bienvenida a Colaboratory",
      "toc_visible": true,
      "provenance": [],
      "include_colab_link": true
    },
    "kernelspec": {
      "display_name": "Python 3",
      "name": "python3"
    }
  },
  "nbformat": 4,
  "nbformat_minor": 0
}