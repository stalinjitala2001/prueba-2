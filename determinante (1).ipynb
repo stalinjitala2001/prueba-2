{
  "cells": [
    {
      "cell_type": "code",
      "execution_count": null,
      "metadata": {
        "id": "M9n6wOunDFNo"
      },
      "outputs": [],
      "source": [
        "%load_ext autoreload"
      ]
    },
    {
      "cell_type": "markdown",
      "metadata": {
        "id": "fvp7BW15DFNr"
      },
      "source": [
        "# Examen"
      ]
    },
    {
      "cell_type": "markdown",
      "metadata": {
        "id": "uT6N7I03DFNs"
      },
      "source": [
        "## Determinante"
      ]
    },
    {
      "cell_type": "markdown",
      "metadata": {
        "id": "iCUtugzIDFNt"
      },
      "source": [
        "![image.png](attachment:image.png)"
      ]
    },
    {
      "cell_type": "code",
      "execution_count": null,
      "metadata": {
        "id": "EQwqujxeDFNt"
      },
      "outputs": [],
      "source": [
        "A = [\n",
        "    [-4, 2, -4, -4, 1, 2, 5, 3, 5, 1],\n",
        "    [1, 0, 4, 3, 0, -2, 3, 0, 1, 5],\n",
        "    [5, 5, -4, 5, -4, 2, 2, 2, 4, 4],\n",
        "    [-1, 3, 4, -1, -4, 0, 5, 0, 0, 5],\n",
        "    [4, 1, 4, 2, 0, 0, 3, -1, 0, 2],\n",
        "    [2, -2, 1, -1, -2, -3, 2, -2, 4, -1],\n",
        "    [3, -2, -3, -2, -1, -3, 5, -1, 5, 0],\n",
        "    [3, 4, -3, 3, -2, 2, -4, -4, 1, 5],\n",
        "    [-4, 0, 3, 3, -3, -2, -2, 0, 5, -4],\n",
        "    [-2, 4, 4, -2, -1, 1, 5, -1, 3, -3],\n",
        "]"
      ]
    },
    {
      "cell_type": "markdown",
      "metadata": {
        "id": "xyjWhpPiDFNu"
      },
      "source": [
        "# Indicaciones\n",
        "Su trabajo es ajustar el código de los métodos de resolución de sistemas de ecuaciones lineales para encontrar el valor del determinante. Tenga en cuenta las siguientes consideraciones:\n",
        "* Usar algún método de resolución de sistemas de ecuaciones lineales para calcular el determinante.\n",
        "* Usar la función creada para calcular el determinante de la matriz de ejemplo A.\n",
        "* Listar los cambios realizados.\n",
        "* Modificar y utilizar SOLO el código provisto. No se aceptarán la utilización de otras librerías o funciones."
      ]
    },
    {
      "cell_type": "code",
      "execution_count": 1,
      "metadata": {
        "colab": {
          "base_uri": "https://localhost:8080/"
        },
        "id": "KgjzL4J5DFNv",
        "outputId": "e43d48f1-556f-4849-c578-71871312835f"
      },
      "outputs": [
        {
          "output_type": "stream",
          "name": "stderr",
          "text": [
            "UsageError: Line magic function `%autoreload` not found.\n"
          ]
        }
      ],
      "source": [
        "%autoreload 2\n",
        "from src import (\n",
        "    eliminacion_gaussiana,\n",
        "    descomposicion_LU,\n",
        "    resolver_LU,\n",
        "    matriz_aumentada,\n",
        "    separar_m_aumentada,\n",
        ")\n",
        "\n",
        "\n",
        "# ####################################################################\n",
        "def calc_determinante(A: list[list[float]]) -> float:\n",
        "    \"\"\"Función que calcula el determinante usando el método\n",
        "    [Descomposición LU, eliminación gaussiana, Gauss-Jordan, Gauss-Jacobi o Gauss-Seidel]\n",
        "\n",
        "    ## Parameters\n",
        "    ``A``: Matriz cuadrada de tamaño n x n\n",
        "\n",
        "    ## Return\n",
        "    ``detA``: Determinante de la matriz A\n",
        "\n",
        "    \"\"\"\n",
        "    # completar\n",
        "    return"
      ]
    },
    {
      "cell_type": "code",
      "execution_count": 10,
      "metadata": {
        "colab": {
          "base_uri": "https://localhost:8080/"
        },
        "id": "puh25vibDFNw",
        "outputId": "4d9a3950-837d-4502-96da-54183c671e1f"
      },
      "outputs": [
        {
          "output_type": "stream",
          "name": "stdout",
          "text": [
            "El determinante de la matriz A es: 9912776.000000015\n"
          ]
        }
      ],
      "source": [
        "def descomposicion_LU(A: list[list[float]]) -> tuple[list[list[float]], list[list[float]]]:\n",
        "    \"\"\"descomposición LU.\n",
        "\n",
        "    Parameters:\n",
        "\n",
        "    Returns:\n",
        "    \"\"\"\n",
        "    n = len(A)\n",
        "    L = [[0] * n for _ in range(n)]\n",
        "    U = [[0] * n for _ in range(n)]\n",
        "\n",
        "    for i in range(n):\n",
        "        for j in range(i, n):\n",
        "            U[i][j] = A[i][j]\n",
        "            for k in range(i):\n",
        "                U[i][j] -= L[i][k] * U[k][j]\n",
        "\n",
        "        L[i][i] = 1\n",
        "        for j in range(i + 1, n):\n",
        "            L[j][i] = A[j][i]\n",
        "            for k in range(i):\n",
        "                L[j][i] -= L[j][k] * U[k][i]\n",
        "            L[j][i] /= U[i][i]\n",
        "\n",
        "    return L, U\n",
        "\n",
        "def calc_determinante_LU(A: list[list[float]]) -> float:\n",
        "\n",
        "    L, U = descomposicion_LU(A)\n",
        "\n",
        "    determinante = 1\n",
        "    for i in range(len(U)):\n",
        "        determinante *= U[i][i]\n",
        "\n",
        "    return determinante\n",
        "\n",
        "A = [\n",
        "    [-4, 2, -4, -4, 1, 2, 5, 3, 5, 1],\n",
        "    [1, 0, 4, 3, 0, -2, 3, 0, 1, 5],\n",
        "    [5, 5, -4, 5, -4, 2, 2, 2, 4, 4],\n",
        "    [-1, 3, 4, -1, -4, 0, 5, 0, 0, 5],\n",
        "    [4, 1, 4, 2, 0, 0, 3, -1, 0, 2],\n",
        "    [2, -2, 1, -1, -2, -3, 2, -2, 4, -1],\n",
        "    [3, -2, -3, -2, -1, -3, 5, -1, 5, 0],\n",
        "    [3, 4, -3, 3, -2, 2, -4, -4, 1, 5],\n",
        "    [-4, 0, 3, 3, -3, -2, -2, 0, 5, -4],\n",
        "    [-2, 4, 4, -2, -1, 1, 5, -1, 3, -3],\n",
        "]\n",
        "\n",
        "det = calc_determinante_LU(A)\n",
        "print(f\"El determinante de la matriz A es: {det}\")\n"
      ]
    }
  ],
  "metadata": {
    "kernelspec": {
      "display_name": "Python 3",
      "language": "python",
      "name": "python3"
    },
    "language_info": {
      "codemirror_mode": {
        "name": "ipython",
        "version": 3
      },
      "file_extension": ".py",
      "mimetype": "text/x-python",
      "name": "python",
      "nbconvert_exporter": "python",
      "pygments_lexer": "ipython3",
      "version": "3.10.11"
    },
    "colab": {
      "provenance": []
    }
  },
  "nbformat": 4,
  "nbformat_minor": 0
}